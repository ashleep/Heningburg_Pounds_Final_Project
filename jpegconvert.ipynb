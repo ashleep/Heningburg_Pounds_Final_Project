{
 "cells": [
  {
   "cell_type": "code",
   "execution_count": 1,
   "metadata": {},
   "outputs": [],
   "source": [
    "import os\n",
    "import numpy as np\n",
    "import pandas as pd\n",
    "import tensorflow as tf\n",
    "# Keras\n",
    "from tensorflow import keras\n",
    "from tensorflow.keras.models import Sequential\n",
    "from tensorflow.keras.utils import to_categorical\n",
    "from tensorflow.keras.layers import Dense\n",
    "from tensorflow.keras.datasets import mnist\n",
    "# Sklearn scaling\n",
    "from sklearn.preprocessing import MinMaxScaler\n",
    "from sklearn.preprocessing import LabelEncoder\n",
    "from PIL import Image\n",
    "import time"
   ]
  },
  {
   "cell_type": "code",
   "execution_count": 2,
   "metadata": {},
   "outputs": [],
   "source": [
    "# cols = ['fileName', 'imageData','fruitName']\n",
    "cols = ['fileName', 'fruitName']\n",
    "# X = np.empty([67692, 30000], dtype = int)\n",
    "X = []\n",
    "masterdf = pd.DataFrame(columns=cols)\n"
   ]
  },
  {
   "cell_type": "code",
   "execution_count": 3,
   "metadata": {},
   "outputs": [],
   "source": [
    "def jpeg_convert(file_name):\n",
    "    with Image.open(file_name) as img:\n",
    "        array = np.array(img).reshape(30000)\n",
    "        return array"
   ]
  },
  {
   "cell_type": "code",
   "execution_count": 4,
   "metadata": {},
   "outputs": [
    {
     "name": "stdout",
     "output_type": "stream",
     "text": [
      "1000\n",
      "2000\n",
      "3000\n",
      "4000\n",
      "5000\n",
      "6000\n",
      "7000\n",
      "8000\n",
      "9000\n",
      "10000\n",
      "11000\n",
      "12000\n",
      "13000\n",
      "14000\n",
      "15000\n",
      "16000\n",
      "17000\n",
      "18000\n",
      "19000\n",
      "20000\n",
      "21000\n",
      "22000\n",
      "23000\n",
      "24000\n",
      "25000\n",
      "26000\n",
      "27000\n",
      "28000\n",
      "29000\n",
      "30000\n",
      "31000\n",
      "32000\n",
      "33000\n",
      "34000\n",
      "35000\n",
      "36000\n",
      "37000\n",
      "38000\n",
      "39000\n",
      "40000\n",
      "41000\n",
      "42000\n",
      "43000\n",
      "44000\n",
      "45000\n",
      "46000\n",
      "47000\n",
      "48000\n",
      "49000\n",
      "50000\n",
      "51000\n",
      "52000\n",
      "53000\n",
      "54000\n",
      "55000\n",
      "56000\n",
      "57000\n",
      "58000\n",
      "59000\n",
      "60000\n",
      "61000\n",
      "62000\n",
      "63000\n",
      "64000\n",
      "65000\n",
      "66000\n",
      "67000\n",
      "Total elapsed time is 389.2915 seconds\n"
     ]
    },
    {
     "data": {
      "text/html": [
       "<div>\n",
       "<style scoped>\n",
       "    .dataframe tbody tr th:only-of-type {\n",
       "        vertical-align: middle;\n",
       "    }\n",
       "\n",
       "    .dataframe tbody tr th {\n",
       "        vertical-align: top;\n",
       "    }\n",
       "\n",
       "    .dataframe thead th {\n",
       "        text-align: right;\n",
       "    }\n",
       "</style>\n",
       "<table border=\"1\" class=\"dataframe\">\n",
       "  <thead>\n",
       "    <tr style=\"text-align: right;\">\n",
       "      <th></th>\n",
       "      <th>fileName</th>\n",
       "      <th>fruitName</th>\n",
       "    </tr>\n",
       "  </thead>\n",
       "  <tbody>\n",
       "    <tr>\n",
       "      <th>0</th>\n",
       "      <td>0_100</td>\n",
       "      <td>fruits-360\\Training\\Apple Braeburn</td>\n",
       "    </tr>\n",
       "    <tr>\n",
       "      <th>1</th>\n",
       "      <td>100_100</td>\n",
       "      <td>fruits-360\\Training\\Apple Braeburn</td>\n",
       "    </tr>\n",
       "    <tr>\n",
       "      <th>2</th>\n",
       "      <td>101_100</td>\n",
       "      <td>fruits-360\\Training\\Apple Braeburn</td>\n",
       "    </tr>\n",
       "    <tr>\n",
       "      <th>3</th>\n",
       "      <td>102_100</td>\n",
       "      <td>fruits-360\\Training\\Apple Braeburn</td>\n",
       "    </tr>\n",
       "    <tr>\n",
       "      <th>4</th>\n",
       "      <td>103_100</td>\n",
       "      <td>fruits-360\\Training\\Apple Braeburn</td>\n",
       "    </tr>\n",
       "    <tr>\n",
       "      <th>...</th>\n",
       "      <td>...</td>\n",
       "      <td>...</td>\n",
       "    </tr>\n",
       "    <tr>\n",
       "      <th>67687</th>\n",
       "      <td>r_6_100</td>\n",
       "      <td>fruits-360\\Training\\Watermelon</td>\n",
       "    </tr>\n",
       "    <tr>\n",
       "      <th>67688</th>\n",
       "      <td>r_7_100</td>\n",
       "      <td>fruits-360\\Training\\Watermelon</td>\n",
       "    </tr>\n",
       "    <tr>\n",
       "      <th>67689</th>\n",
       "      <td>r_81_100</td>\n",
       "      <td>fruits-360\\Training\\Watermelon</td>\n",
       "    </tr>\n",
       "    <tr>\n",
       "      <th>67690</th>\n",
       "      <td>r_8_100</td>\n",
       "      <td>fruits-360\\Training\\Watermelon</td>\n",
       "    </tr>\n",
       "    <tr>\n",
       "      <th>67691</th>\n",
       "      <td>r_9_100</td>\n",
       "      <td>fruits-360\\Training\\Watermelon</td>\n",
       "    </tr>\n",
       "  </tbody>\n",
       "</table>\n",
       "<p>67692 rows × 2 columns</p>\n",
       "</div>"
      ],
      "text/plain": [
       "       fileName                           fruitName\n",
       "0         0_100  fruits-360\\Training\\Apple Braeburn\n",
       "1       100_100  fruits-360\\Training\\Apple Braeburn\n",
       "2       101_100  fruits-360\\Training\\Apple Braeburn\n",
       "3       102_100  fruits-360\\Training\\Apple Braeburn\n",
       "4       103_100  fruits-360\\Training\\Apple Braeburn\n",
       "...         ...                                 ...\n",
       "67687   r_6_100      fruits-360\\Training\\Watermelon\n",
       "67688   r_7_100      fruits-360\\Training\\Watermelon\n",
       "67689  r_81_100      fruits-360\\Training\\Watermelon\n",
       "67690   r_8_100      fruits-360\\Training\\Watermelon\n",
       "67691   r_9_100      fruits-360\\Training\\Watermelon\n",
       "\n",
       "[67692 rows x 2 columns]"
      ]
     },
     "execution_count": 4,
     "metadata": {},
     "output_type": "execute_result"
    }
   ],
   "source": [
    "time_start = time.perf_counter()\n",
    "parentDirectory = os.path.join('data', 'fruits-360','Training')\n",
    "i=0\n",
    "\n",
    "for subdir, dirs, files in os.walk(parentDirectory):\n",
    "    for file in files:\n",
    "        fileName= file[:-4]\n",
    "        subdirName = subdir[5:]\n",
    "        imagePath = os.path.join(subdir,file)\n",
    "        X.append(jpeg_convert(imagePath))\n",
    "#         X[i,:] = (jpeg_convert(imagePath))\n",
    "#         imageData = jpeg_convert(imagePath)\n",
    "#         masterdf.loc[i] = [fileName, imageData, subdirName]\n",
    "        masterdf.loc[i] = [fileName, subdirName]\n",
    "        i+=1\n",
    "        if i%1000 == 0:\n",
    "            print(i)\n",
    "\n",
    "time_stop = time.perf_counter()\n",
    "print(f\"Total elapsed time is {time_stop-time_start:0.4f} seconds\")\n",
    "masterdf"
   ]
  },
  {
   "cell_type": "code",
   "execution_count": 5,
   "metadata": {},
   "outputs": [
    {
     "data": {
      "text/plain": [
       "(67692, 30000)"
      ]
     },
     "execution_count": 5,
     "metadata": {},
     "output_type": "execute_result"
    }
   ],
   "source": [
    "X = np.array(X)\n",
    "X.shape"
   ]
  },
  {
   "cell_type": "code",
   "execution_count": 6,
   "metadata": {},
   "outputs": [
    {
     "data": {
      "text/html": [
       "<div>\n",
       "<style scoped>\n",
       "    .dataframe tbody tr th:only-of-type {\n",
       "        vertical-align: middle;\n",
       "    }\n",
       "\n",
       "    .dataframe tbody tr th {\n",
       "        vertical-align: top;\n",
       "    }\n",
       "\n",
       "    .dataframe thead th {\n",
       "        text-align: right;\n",
       "    }\n",
       "</style>\n",
       "<table border=\"1\" class=\"dataframe\">\n",
       "  <thead>\n",
       "    <tr style=\"text-align: right;\">\n",
       "      <th></th>\n",
       "      <th>fruitName</th>\n",
       "    </tr>\n",
       "  </thead>\n",
       "  <tbody>\n",
       "    <tr>\n",
       "      <th>0</th>\n",
       "      <td>fruits-360\\Training\\Apple Braeburn</td>\n",
       "    </tr>\n",
       "    <tr>\n",
       "      <th>1</th>\n",
       "      <td>fruits-360\\Training\\Apple Braeburn</td>\n",
       "    </tr>\n",
       "    <tr>\n",
       "      <th>2</th>\n",
       "      <td>fruits-360\\Training\\Apple Braeburn</td>\n",
       "    </tr>\n",
       "    <tr>\n",
       "      <th>3</th>\n",
       "      <td>fruits-360\\Training\\Apple Braeburn</td>\n",
       "    </tr>\n",
       "    <tr>\n",
       "      <th>4</th>\n",
       "      <td>fruits-360\\Training\\Apple Braeburn</td>\n",
       "    </tr>\n",
       "    <tr>\n",
       "      <th>...</th>\n",
       "      <td>...</td>\n",
       "    </tr>\n",
       "    <tr>\n",
       "      <th>67687</th>\n",
       "      <td>fruits-360\\Training\\Watermelon</td>\n",
       "    </tr>\n",
       "    <tr>\n",
       "      <th>67688</th>\n",
       "      <td>fruits-360\\Training\\Watermelon</td>\n",
       "    </tr>\n",
       "    <tr>\n",
       "      <th>67689</th>\n",
       "      <td>fruits-360\\Training\\Watermelon</td>\n",
       "    </tr>\n",
       "    <tr>\n",
       "      <th>67690</th>\n",
       "      <td>fruits-360\\Training\\Watermelon</td>\n",
       "    </tr>\n",
       "    <tr>\n",
       "      <th>67691</th>\n",
       "      <td>fruits-360\\Training\\Watermelon</td>\n",
       "    </tr>\n",
       "  </tbody>\n",
       "</table>\n",
       "<p>67692 rows × 1 columns</p>\n",
       "</div>"
      ],
      "text/plain": [
       "                                fruitName\n",
       "0      fruits-360\\Training\\Apple Braeburn\n",
       "1      fruits-360\\Training\\Apple Braeburn\n",
       "2      fruits-360\\Training\\Apple Braeburn\n",
       "3      fruits-360\\Training\\Apple Braeburn\n",
       "4      fruits-360\\Training\\Apple Braeburn\n",
       "...                                   ...\n",
       "67687      fruits-360\\Training\\Watermelon\n",
       "67688      fruits-360\\Training\\Watermelon\n",
       "67689      fruits-360\\Training\\Watermelon\n",
       "67690      fruits-360\\Training\\Watermelon\n",
       "67691      fruits-360\\Training\\Watermelon\n",
       "\n",
       "[67692 rows x 1 columns]"
      ]
     },
     "execution_count": 6,
     "metadata": {},
     "output_type": "execute_result"
    }
   ],
   "source": [
    "# X = masterdf[['imageData']]\n",
    "y = masterdf[['fruitName']]\n",
    "y"
   ]
  },
  {
   "cell_type": "markdown",
   "metadata": {},
   "source": [
    "# One Hot Encoding"
   ]
  },
  {
   "cell_type": "code",
   "execution_count": 7,
   "metadata": {},
   "outputs": [
    {
     "name": "stderr",
     "output_type": "stream",
     "text": [
      "C:\\Users\\Gabriel\\Anaconda3\\envs\\PythonAdv\\lib\\site-packages\\sklearn\\utils\\validation.py:73: DataConversionWarning: A column-vector y was passed when a 1d array was expected. Please change the shape of y to (n_samples, ), for example using ravel().\n",
      "  return f(**kwargs)\n"
     ]
    },
    {
     "data": {
      "text/plain": [
       "array([[1., 0., 0., ..., 0., 0., 0.],\n",
       "       [1., 0., 0., ..., 0., 0., 0.],\n",
       "       [1., 0., 0., ..., 0., 0., 0.],\n",
       "       ...,\n",
       "       [0., 0., 0., ..., 0., 0., 1.],\n",
       "       [0., 0., 0., ..., 0., 0., 1.],\n",
       "       [0., 0., 0., ..., 0., 0., 1.]], dtype=float32)"
      ]
     },
     "execution_count": 7,
     "metadata": {},
     "output_type": "execute_result"
    }
   ],
   "source": [
    "label_encoder = LabelEncoder()\n",
    "label_encoder.fit(y)\n",
    "encoded_y = label_encoder.transform(y)\n",
    "\n",
    "one_hot_y = to_categorical(encoded_y)\n",
    "one_hot_y"
   ]
  },
  {
   "cell_type": "code",
   "execution_count": 8,
   "metadata": {},
   "outputs": [
    {
     "name": "stdout",
     "output_type": "stream",
     "text": [
      "Total elapsed time is 368.0702 seconds\n"
     ]
    },
    {
     "data": {
      "text/plain": [
       "array([[0.99130435, 1.        , 1.        , ..., 1.        , 1.        ,\n",
       "        1.        ],\n",
       "       [0.99130435, 1.        , 0.95294118, ..., 1.        , 1.        ,\n",
       "        1.        ],\n",
       "       [0.9826087 , 1.        , 0.94117647, ..., 1.        , 1.        ,\n",
       "        1.        ],\n",
       "       ...,\n",
       "       [1.        , 1.        , 1.        , ..., 1.        , 1.        ,\n",
       "        1.        ],\n",
       "       [1.        , 1.        , 1.        , ..., 1.        , 1.        ,\n",
       "        1.        ],\n",
       "       [1.        , 1.        , 1.        , ..., 1.        , 1.        ,\n",
       "        1.        ]])"
      ]
     },
     "execution_count": 8,
     "metadata": {},
     "output_type": "execute_result"
    }
   ],
   "source": [
    "time_start = time.perf_counter()\n",
    "X_scaler = MinMaxScaler().fit(X)\n",
    "X_train_scaled = X_scaler.transform(X)\n",
    "time_stop = time.perf_counter()\n",
    "print(f\"Total elapsed time is {time_stop-time_start:0.4f} seconds\")\n",
    "X_train_scaled"
   ]
  },
  {
   "cell_type": "code",
   "execution_count": 9,
   "metadata": {},
   "outputs": [
    {
     "data": {
      "text/plain": [
       "(67692, 30000)"
      ]
     },
     "execution_count": 9,
     "metadata": {},
     "output_type": "execute_result"
    }
   ],
   "source": [
    "X_train_scaled.shape"
   ]
  },
  {
   "cell_type": "code",
   "execution_count": 28,
   "metadata": {},
   "outputs": [],
   "source": [
    "model = Sequential()"
   ]
  },
  {
   "cell_type": "code",
   "execution_count": 29,
   "metadata": {},
   "outputs": [],
   "source": [
    "model.add(Dense(200, activation='relu', input_dim=30000))"
   ]
  },
  {
   "cell_type": "code",
   "execution_count": 30,
   "metadata": {},
   "outputs": [],
   "source": [
    "model.add(Dense(200, activation='relu'))"
   ]
  },
  {
   "cell_type": "code",
   "execution_count": 31,
   "metadata": {},
   "outputs": [],
   "source": [
    "model.add(Dense(200, activation='relu'))"
   ]
  },
  {
   "cell_type": "code",
   "execution_count": 32,
   "metadata": {},
   "outputs": [
    {
     "name": "stdout",
     "output_type": "stream",
     "text": [
      "Model: \"sequential_3\"\n",
      "_________________________________________________________________\n",
      "Layer (type)                 Output Shape              Param #   \n",
      "=================================================================\n",
      "dense_9 (Dense)              (None, 200)               6000200   \n",
      "_________________________________________________________________\n",
      "dense_10 (Dense)             (None, 200)               40200     \n",
      "_________________________________________________________________\n",
      "dense_11 (Dense)             (None, 200)               40200     \n",
      "_________________________________________________________________\n",
      "dense_12 (Dense)             (None, 131)               26331     \n",
      "=================================================================\n",
      "Total params: 6,106,931\n",
      "Trainable params: 6,106,931\n",
      "Non-trainable params: 0\n",
      "_________________________________________________________________\n"
     ]
    }
   ],
   "source": [
    "model.add(Dense(131, activation='softmax'))\n",
    "model.summary()"
   ]
  },
  {
   "cell_type": "code",
   "execution_count": 33,
   "metadata": {},
   "outputs": [],
   "source": [
    "model.compile(optimizer='adam', \n",
    "              loss='categorical_crossentropy', \n",
    "              metrics=['accuracy'])"
   ]
  },
  {
   "cell_type": "code",
   "execution_count": 34,
   "metadata": {},
   "outputs": [
    {
     "name": "stdout",
     "output_type": "stream",
     "text": [
      "Train on 67692 samples\n",
      "Epoch 1/10\n",
      "67692/67692 - 75s - loss: 0.9331 - accuracy: 0.7456\n",
      "Epoch 2/10\n",
      "67692/67692 - 69s - loss: 0.2258 - accuracy: 0.9277\n",
      "Epoch 3/10\n",
      "67692/67692 - 71s - loss: 0.1862 - accuracy: 0.9426\n",
      "Epoch 4/10\n",
      "67692/67692 - 74s - loss: 0.1493 - accuracy: 0.9555\n",
      "Epoch 5/10\n",
      "67692/67692 - 74s - loss: 0.1447 - accuracy: 0.9592\n",
      "Epoch 6/10\n",
      "67692/67692 - 69s - loss: 0.1212 - accuracy: 0.9656\n",
      "Epoch 7/10\n",
      "67692/67692 - 67s - loss: 0.1274 - accuracy: 0.9659\n",
      "Epoch 8/10\n",
      "67692/67692 - 78s - loss: 0.1187 - accuracy: 0.9701\n",
      "Epoch 9/10\n",
      "67692/67692 - 78s - loss: 0.1153 - accuracy: 0.9715\n",
      "Epoch 10/10\n",
      "67692/67692 - 77s - loss: 0.1029 - accuracy: 0.9766\n"
     ]
    },
    {
     "data": {
      "text/plain": [
       "<tensorflow.python.keras.callbacks.History at 0x1f577c14be0>"
      ]
     },
     "execution_count": 34,
     "metadata": {},
     "output_type": "execute_result"
    }
   ],
   "source": [
    "# Fit (train) the model\n",
    "model.fit(\n",
    "    X_train_scaled,\n",
    "    one_hot_y,\n",
    "    epochs=10,\n",
    "    shuffle=True,\n",
    "    verbose=2\n",
    ")"
   ]
  },
  {
   "cell_type": "code",
   "execution_count": 35,
   "metadata": {},
   "outputs": [
    {
     "name": "stdout",
     "output_type": "stream",
     "text": [
      "1000\n",
      "2000\n",
      "3000\n",
      "4000\n",
      "5000\n",
      "6000\n",
      "7000\n",
      "8000\n",
      "9000\n",
      "10000\n",
      "11000\n",
      "12000\n",
      "13000\n",
      "14000\n",
      "15000\n",
      "16000\n",
      "17000\n",
      "18000\n",
      "19000\n",
      "20000\n",
      "21000\n",
      "22000\n",
      "Total elapsed time is 110.5683 seconds\n"
     ]
    },
    {
     "data": {
      "text/html": [
       "<div>\n",
       "<style scoped>\n",
       "    .dataframe tbody tr th:only-of-type {\n",
       "        vertical-align: middle;\n",
       "    }\n",
       "\n",
       "    .dataframe tbody tr th {\n",
       "        vertical-align: top;\n",
       "    }\n",
       "\n",
       "    .dataframe thead th {\n",
       "        text-align: right;\n",
       "    }\n",
       "</style>\n",
       "<table border=\"1\" class=\"dataframe\">\n",
       "  <thead>\n",
       "    <tr style=\"text-align: right;\">\n",
       "      <th></th>\n",
       "      <th>fileName</th>\n",
       "      <th>fruitName</th>\n",
       "    </tr>\n",
       "  </thead>\n",
       "  <tbody>\n",
       "    <tr>\n",
       "      <th>0</th>\n",
       "      <td>321_100</td>\n",
       "      <td>fruits-360\\Test\\Apple Braeburn</td>\n",
       "    </tr>\n",
       "    <tr>\n",
       "      <th>1</th>\n",
       "      <td>322_100</td>\n",
       "      <td>fruits-360\\Test\\Apple Braeburn</td>\n",
       "    </tr>\n",
       "    <tr>\n",
       "      <th>2</th>\n",
       "      <td>323_100</td>\n",
       "      <td>fruits-360\\Test\\Apple Braeburn</td>\n",
       "    </tr>\n",
       "    <tr>\n",
       "      <th>3</th>\n",
       "      <td>324_100</td>\n",
       "      <td>fruits-360\\Test\\Apple Braeburn</td>\n",
       "    </tr>\n",
       "    <tr>\n",
       "      <th>4</th>\n",
       "      <td>325_100</td>\n",
       "      <td>fruits-360\\Test\\Apple Braeburn</td>\n",
       "    </tr>\n",
       "    <tr>\n",
       "      <th>...</th>\n",
       "      <td>...</td>\n",
       "      <td>...</td>\n",
       "    </tr>\n",
       "    <tr>\n",
       "      <th>22683</th>\n",
       "      <td>r_95_100</td>\n",
       "      <td>fruits-360\\Test\\Watermelon</td>\n",
       "    </tr>\n",
       "    <tr>\n",
       "      <th>22684</th>\n",
       "      <td>r_96_100</td>\n",
       "      <td>fruits-360\\Test\\Watermelon</td>\n",
       "    </tr>\n",
       "    <tr>\n",
       "      <th>22685</th>\n",
       "      <td>r_97_100</td>\n",
       "      <td>fruits-360\\Test\\Watermelon</td>\n",
       "    </tr>\n",
       "    <tr>\n",
       "      <th>22686</th>\n",
       "      <td>r_98_100</td>\n",
       "      <td>fruits-360\\Test\\Watermelon</td>\n",
       "    </tr>\n",
       "    <tr>\n",
       "      <th>22687</th>\n",
       "      <td>r_99_100</td>\n",
       "      <td>fruits-360\\Test\\Watermelon</td>\n",
       "    </tr>\n",
       "  </tbody>\n",
       "</table>\n",
       "<p>22688 rows × 2 columns</p>\n",
       "</div>"
      ],
      "text/plain": [
       "       fileName                       fruitName\n",
       "0       321_100  fruits-360\\Test\\Apple Braeburn\n",
       "1       322_100  fruits-360\\Test\\Apple Braeburn\n",
       "2       323_100  fruits-360\\Test\\Apple Braeburn\n",
       "3       324_100  fruits-360\\Test\\Apple Braeburn\n",
       "4       325_100  fruits-360\\Test\\Apple Braeburn\n",
       "...         ...                             ...\n",
       "22683  r_95_100      fruits-360\\Test\\Watermelon\n",
       "22684  r_96_100      fruits-360\\Test\\Watermelon\n",
       "22685  r_97_100      fruits-360\\Test\\Watermelon\n",
       "22686  r_98_100      fruits-360\\Test\\Watermelon\n",
       "22687  r_99_100      fruits-360\\Test\\Watermelon\n",
       "\n",
       "[22688 rows x 2 columns]"
      ]
     },
     "execution_count": 35,
     "metadata": {},
     "output_type": "execute_result"
    }
   ],
   "source": [
    "time_start = time.perf_counter()\n",
    "parentDirectory = os.path.join('data', 'fruits-360','Test')\n",
    "X_test = []\n",
    "testdf = pd.DataFrame(columns=cols)\n",
    "i=0\n",
    "\n",
    "for subdir, dirs, files in os.walk(parentDirectory):\n",
    "    for file in files:\n",
    "        fileName= file[:-4]\n",
    "        subdirName = subdir[5:]\n",
    "        imagePath = os.path.join(subdir,file)\n",
    "        X_test.append(jpeg_convert(imagePath))\n",
    "#         X[i,:] = (jpeg_convert(imagePath))\n",
    "#         imageData = jpeg_convert(imagePath)\n",
    "#         masterdf.loc[i] = [fileName, imageData, subdirName]\n",
    "        testdf.loc[i] = [fileName, subdirName]\n",
    "        i+=1\n",
    "        if i%1000 == 0:\n",
    "            print(i)\n",
    "\n",
    "time_stop = time.perf_counter()\n",
    "print(f\"Total elapsed time is {time_stop-time_start:0.4f} seconds\")\n",
    "testdf"
   ]
  },
  {
   "cell_type": "code",
   "execution_count": 37,
   "metadata": {},
   "outputs": [
    {
     "name": "stdout",
     "output_type": "stream",
     "text": [
      "Total elapsed time is 8.1962 seconds\n"
     ]
    },
    {
     "data": {
      "text/plain": [
       "array([[1.        , 1.        , 1.        , ..., 1.        , 1.        ,\n",
       "        1.        ],\n",
       "       [1.        , 1.        , 1.        , ..., 1.        , 1.        ,\n",
       "        1.        ],\n",
       "       [1.        , 1.        , 1.        , ..., 1.        , 1.        ,\n",
       "        1.        ],\n",
       "       ...,\n",
       "       [0.99130435, 1.        , 1.        , ..., 1.        , 1.        ,\n",
       "        1.        ],\n",
       "       [0.99130435, 1.        , 0.97647059, ..., 1.        , 1.        ,\n",
       "        1.        ],\n",
       "       [1.        , 1.        , 1.        , ..., 1.        , 1.        ,\n",
       "        1.        ]])"
      ]
     },
     "execution_count": 37,
     "metadata": {},
     "output_type": "execute_result"
    }
   ],
   "source": [
    "X_test = np.array(X_test)\n",
    "time_start = time.perf_counter()\n",
    "X_test_scaled = X_scaler.transform(X_test)\n",
    "time_stop = time.perf_counter()\n",
    "print(f\"Total elapsed time is {time_stop-time_start:0.4f} seconds\")\n",
    "X_test_scaled"
   ]
  },
  {
   "cell_type": "code",
   "execution_count": 60,
   "metadata": {},
   "outputs": [],
   "source": [
    "img = X_test_scaled[22260,:].reshape(-1, 30000)"
   ]
  },
  {
   "cell_type": "code",
   "execution_count": 61,
   "metadata": {},
   "outputs": [
    {
     "data": {
      "text/plain": [
       "array([[0., 0., 0., 0., 0., 0., 0., 0., 0., 0., 0., 0., 0., 0., 0., 0.,\n",
       "        0., 0., 0., 0., 0., 0., 0., 0., 0., 0., 0., 0., 0., 0., 0., 0.,\n",
       "        0., 0., 0., 0., 0., 0., 0., 0., 0., 0., 0., 0., 0., 0., 0., 0.,\n",
       "        0., 0., 0., 0., 0., 0., 0., 0., 0., 0., 0., 0., 0., 0., 0., 0.,\n",
       "        0., 0., 0., 0., 0., 0., 0., 0., 0., 0., 0., 0., 0., 0., 0., 0.,\n",
       "        0., 0., 0., 0., 0., 0., 0., 0., 0., 0., 0., 0., 0., 0., 0., 0.,\n",
       "        0., 0., 0., 0., 0., 0., 0., 0., 0., 0., 0., 0., 0., 0., 0., 0.,\n",
       "        0., 0., 0., 0., 0., 0., 0., 0., 0., 0., 0., 0., 0., 0., 0., 1.,\n",
       "        0., 0., 0.]], dtype=float32)"
      ]
     },
     "execution_count": 61,
     "metadata": {},
     "output_type": "execute_result"
    }
   ],
   "source": [
    "model.predict(img).round()"
   ]
  },
  {
   "cell_type": "code",
   "execution_count": 55,
   "metadata": {},
   "outputs": [
    {
     "data": {
      "text/plain": [
       "array([[1., 0., 0., ..., 0., 0., 0.],\n",
       "       [1., 0., 0., ..., 0., 0., 0.],\n",
       "       [1., 0., 0., ..., 0., 0., 0.],\n",
       "       ...,\n",
       "       [0., 0., 0., ..., 0., 0., 1.],\n",
       "       [0., 0., 0., ..., 0., 0., 1.],\n",
       "       [0., 0., 0., ..., 0., 0., 1.]], dtype=float32)"
      ]
     },
     "execution_count": 55,
     "metadata": {},
     "output_type": "execute_result"
    }
   ],
   "source": [
    "one_hot_y"
   ]
  },
  {
   "cell_type": "code",
   "execution_count": null,
   "metadata": {},
   "outputs": [],
   "source": []
  }
 ],
 "metadata": {
  "anaconda-cloud": {},
  "celltoolbar": "Slideshow",
  "kernelspec": {
   "display_name": "Python 3",
   "language": "python",
   "name": "python3"
  },
  "language_info": {
   "codemirror_mode": {
    "name": "ipython",
    "version": 3
   },
   "file_extension": ".py",
   "mimetype": "text/x-python",
   "name": "python",
   "nbconvert_exporter": "python",
   "pygments_lexer": "ipython3",
   "version": "3.6.10"
  },
  "varInspector": {
   "cols": {
    "lenName": 16,
    "lenType": 16,
    "lenVar": 40
   },
   "kernels_config": {
    "python": {
     "delete_cmd_postfix": "",
     "delete_cmd_prefix": "del ",
     "library": "var_list.py",
     "varRefreshCmd": "print(var_dic_list())"
    },
    "r": {
     "delete_cmd_postfix": ") ",
     "delete_cmd_prefix": "rm(",
     "library": "var_list.r",
     "varRefreshCmd": "cat(var_dic_list()) "
    }
   },
   "types_to_exclude": [
    "module",
    "function",
    "builtin_function_or_method",
    "instance",
    "_Feature"
   ],
   "window_display": false
  }
 },
 "nbformat": 4,
 "nbformat_minor": 2
}
